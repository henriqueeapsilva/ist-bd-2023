{
 "cells": [
  {
   "cell_type": "markdown",
   "id": "19b43aee-c23f-4ef7-8547-9c309b2dbecb",
   "metadata": {
    "id": "19b43aee-c23f-4ef7-8547-9c309b2dbecb"
   },
   "source": [
    "# Projeto de Bases de Dados - Parte 3\n",
    "\n",
    "### Docente Responsável\n",
    "\n",
    "- Prof. André Patrício\n",
    "- Prof. Jorge Oliveira\n",
    "\n",
    "### Grupo 47 - Turno BD2L17\n",
    "<dl>\n",
    "    <dt>10 horas (33.3%)</dt>\n",
    "    <dd>ist102927 Henrique Soares</dd>\n",
    "    <dt>10 horas (33.3%)</dt>\n",
    "    <dd>ist103606 Henrique Silva</dd>\n",
    "    <dt>10 horas (33.3%)</dt>\n",
    "    <dd>ist103624 Afonso Azaruja</dd>\n",
    "<dl>"
   ]
  },
  {
   "cell_type": "code",
   "execution_count": null,
   "id": "a6545a02-adea-4c57-b704-cfa1f6253e4b",
   "metadata": {
    "id": "a6545a02-adea-4c57-b704-cfa1f6253e4b",
    "tags": []
   },
   "outputs": [],
   "source": [
    "%load_ext sql\n",
    "%sql postgresql://db:db@postgres/db"
   ]
  },
  {
   "cell_type": "markdown",
   "id": "1c5deb6e-396e-401f-9b09-af4cd09491a9",
   "metadata": {
    "id": "1c5deb6e-396e-401f-9b09-af4cd09491a9",
    "tags": []
   },
   "source": [
    "# Empresa de comércio online"
   ]
  },
  {
   "cell_type": "markdown",
   "id": "76eab1e8-8d6a-41e3-b242-553a7f14ba84",
   "metadata": {
    "id": "76eab1e8-8d6a-41e3-b242-553a7f14ba84",
    "tags": []
   },
   "source": [
    "## 0. Carregamento da Base de Dados"
   ]
  },
  {
   "cell_type": "markdown",
   "id": "e047df4e-b18b-4c70-8f7b-378b4201ee01",
   "metadata": {
    "id": "e047df4e-b18b-4c70-8f7b-378b4201ee01"
   },
   "source": [
    "Carregue o esquema de Base de Dados apresentado no Anexo A."
   ]
  },
  {
   "cell_type": "code",
   "execution_count": null,
   "id": "c718077c-5193-47a0-bb76-8f1f43a713be",
   "metadata": {
    "id": "c718077c-5193-47a0-bb76-8f1f43a713be"
   },
   "outputs": [],
   "source": [
    "%%sql\n",
    "\n",
    "DROP TABLE IF EXISTS customer CASCADE;\n",
    "DROP TABLE IF EXISTS orders CASCADE;\n",
    "DROP TABLE IF EXISTS pay CASCADE;\n",
    "DROP TABLE IF EXISTS employee CASCADE;\n",
    "DROP TABLE IF EXISTS process CASCADE;\n",
    "DROP TABLE IF EXISTS department CASCADE;\n",
    "DROP TABLE IF EXISTS workplace CASCADE;\n",
    "DROP TABLE IF EXISTS works CASCADE;\n",
    "DROP TABLE IF EXISTS office CASCADE;\n",
    "DROP TABLE IF EXISTS warehouse CASCADE;\n",
    "DROP TABLE IF EXISTS product CASCADE;\n",
    "DROP TABLE IF EXISTS contains CASCADE;\n",
    "DROP TABLE IF EXISTS supplier CASCADE;\n",
    "DROP TABLE IF EXISTS delivery CASCADE;\n",
    "\n",
    "CREATE TABLE customer(\n",
    "cust_no INTEGER PRIMARY KEY,\n",
    "name VARCHAR(80) NOT NULL,\n",
    "email VARCHAR(254) UNIQUE NOT NULL,\n",
    "phone VARCHAR(15),\n",
    "address VARCHAR(255)\n",
    ");\n",
    "\n",
    "CREATE TABLE orders(\n",
    "order_no INTEGER PRIMARY KEY,\n",
    "cust_no INTEGER NOT NULL REFERENCES customer,\n",
    "date DATE NOT NULL\n",
    "--order_no must exist in contains\n",
    ");\n",
    "\n",
    "CREATE TABLE pay(\n",
    "order_no INTEGER PRIMARY KEY REFERENCES orders,\n",
    "cust_no INTEGER NOT NULL REFERENCES customer\n",
    ");\n",
    "\n",
    "CREATE TABLE employee(\n",
    "ssn VARCHAR(20) PRIMARY KEY,\n",
    "TIN VARCHAR(20) UNIQUE NOT NULL,\n",
    "bdate DATE,\n",
    "name VARCHAR NOT NULL\n",
    "--age must be >=18\n",
    ");\n",
    "\n",
    "CREATE TABLE process(\n",
    "ssn VARCHAR(20) REFERENCES employee,\n",
    "order_no INTEGER REFERENCES orders,\n",
    "PRIMARY KEY (ssn, order_no)\n",
    ");\n",
    "\n",
    "CREATE TABLE department(\n",
    "name VARCHAR PRIMARY KEY\n",
    ");\n",
    "\n",
    "CREATE TABLE workplace(\n",
    "address VARCHAR PRIMARY KEY,\n",
    "lat NUMERIC(8, 6) NOT NULL,\n",
    "long NUMERIC(9, 6) NOT NULL,\n",
    "UNIQUE(lat, long)\n",
    "--address must be in warehouse or office but not both\n",
    ");\n",
    "\n",
    "CREATE TABLE office(\n",
    "address VARCHAR(255) PRIMARY KEY REFERENCES workplace\n",
    ");\n",
    "\n",
    "CREATE TABLE warehouse(\n",
    "address VARCHAR(255) PRIMARY KEY REFERENCES workplace\n",
    ");\n",
    "\n",
    "CREATE TABLE works(\n",
    "ssn VARCHAR(20) REFERENCES employee,\n",
    "name VARCHAR(200) REFERENCES department,\n",
    "address VARCHAR(255) REFERENCES workplace,\n",
    "PRIMARY KEY (ssn, name, address)\n",
    ");\n",
    "\n",
    "CREATE TABLE product(\n",
    "SKU VARCHAR(25) PRIMARY KEY,\n",
    "name VARCHAR(200) NOT NULL,\n",
    "description VARCHAR,\n",
    "price NUMERIC(10, 2) NOT NULL,\n",
    "ean NUMERIC(13) UNIQUE\n",
    ");\n",
    "\n",
    "CREATE TABLE contains(\n",
    "order_no INTEGER REFERENCES orders,\n",
    "SKU VARCHAR(25) REFERENCES product,\n",
    "qty INTEGER,\n",
    "PRIMARY KEY (order_no, SKU)\n",
    ");\n",
    "\n",
    "CREATE TABLE supplier(\n",
    "TIN VARCHAR(20) PRIMARY KEY,\n",
    "name VARCHAR(200),\n",
    "address VARCHAR(255),\n",
    "SKU VARCHAR(25) REFERENCES product,\n",
    "date DATE\n",
    ");\n",
    "\n",
    "CREATE TABLE delivery(\n",
    "address VARCHAR(255) REFERENCES warehouse,\n",
    "TIN VARCHAR(20) REFERENCES supplier,\n",
    "PRIMARY KEY (address, TIN)\n",
    ");"
   ]
  },
  {
   "cell_type": "markdown",
   "id": "25fcb3f3-2ec6-4264-bd74-d07bfd56fa76",
   "metadata": {
    "id": "25fcb3f3-2ec6-4264-bd74-d07bfd56fa76"
   },
   "source": [
    "Crie as instruções para o seu preenchimento de forma consistente, garantindo que todas as consultas SQL e OLAP, apresentadas mais adiante, produzam um resultado não vazio."
   ]
  },
  {
   "cell_type": "code",
   "execution_count": null,
   "id": "e33d841c-c21e-4a9a-88b4-00b45b039261",
   "metadata": {
    "id": "e33d841c-c21e-4a9a-88b4-00b45b039261",
    "tags": []
   },
   "outputs": [],
   "source": [
    "%%sql\n",
    "-- populate.sql\n",
    "\n",
    "INSERT into customer values (01, 'Luis Nogueira', 'luisnogueira@gmail.com', 968754123 ,'Rua de Cima 1, 4480-110 Árvore');\n",
    "INSERT into customer values (02, 'Vitoria Silva', 'vitoriasilva1@gmail.com' ,917654321 ,'Rua das Orquídeas 59, 2690-408 Santa Iria de Azóia');\n",
    "INSERT into customer values (03, 'Rita Avestruz', 'ritaavestruz@gmail.com' , 936874521 ,'Bairro Novo da Sardoa 1, 7670-132 Garvão');\n",
    "INSERT into customer values (04, 'Alberto Bito', 'albertobito@hotmail.pt' , 966152489 ,'Rua Florbela Espanca 11, 7170-072 Redondo');\n",
    "INSERT into customer values (05, 'Pedro Baril', 'pedrobarilz@hotmail.pt' , 987654321 ,'Rua Mariano Feio 3, 7900-195 Ferreira do Alentejo');\n",
    "\n",
    "INSERT into orders values (00001, 04, '2023-01-10');\n",
    "INSERT into orders values (00002, 04, '2022-05-11');\n",
    "INSERT into orders values (00003, 01, '2019-03-01');\n",
    "INSERT into orders values (00004, 04, '2023-01-23');\n",
    "INSERT into orders values (00005, 01, '2019-06-22');\n",
    "INSERT into orders values (00006, 02, '2017-11-25');\n",
    "INSERT into orders values (00007, 01, '2020-12-06');\n",
    "INSERT into orders values (00008, 02, '2022-07-10');\n",
    "INSERT into orders values (00009, 02, '2012-01-01');\n",
    "INSERT into orders values (00010, 03, '2023-01-05');\n",
    "INSERT into orders values (00011, 04, '2023-01-11');\n",
    "INSERT into orders values (00012, 03, '2023-01-07');\n",
    "INSERT into orders values (00013, 05, '2023-03-18');\n",
    "INSERT into orders values (00014, 05, '2018-05-26');\n",
    "INSERT into orders values (00015, 05, '2023-01-17');\n",
    "\n",
    "INSERT into pay values (00005, 01);\n",
    "INSERT into pay values (00006, 02);\n",
    "INSERT into pay values (00007, 01);\n",
    "INSERT into pay values (00008, 02);\n",
    "INSERT into pay values (00009, 02);\n",
    "INSERT into pay values (00010, 03);\n",
    "INSERT into pay values (00011, 04);\n",
    "INSERT into pay values (00012, 03);\n",
    "INSERT into pay values (00013, 05);\n",
    "INSERT into pay values (00014, 05);\n",
    "INSERT into pay values (00015, 05);\n",
    "\n",
    "INSERT into employee values (01, 949103209, '2000-10-02', 'Josefino Antunes');\n",
    "INSERT into employee values (02, 949091032, '1999-12-01', 'Leonardo Faísca');\n",
    "INSERT into employee values (03, 109093294, '1998-06-02', 'Roberto Estrada');\n",
    "INSERT into employee values (04, 291034909, '1990-01-22', 'Maria Costa');\n",
    "INSERT into employee values (05, 909103294, '2001-03-20', 'Susana Grilo');\n",
    "\n",
    "INSERT into process values (01, 00005);\n",
    "INSERT into process values (04, 00002);\n",
    "INSERT into process values (04, 00007);\n",
    "INSERT into process values (04, 00008);\n",
    "INSERT into process values (05, 00009);\n",
    "INSERT into process values (01, 00010);\n",
    "INSERT into process values (02, 00011);\n",
    "INSERT into process values (03, 00006);\n",
    "INSERT into process values (01, 00013);\n",
    "INSERT into process values (03, 00014);\n",
    "INSERT into process values (05, 00015);\n",
    "\n",
    "INSERT into department values ('Recursos Humanos');\n",
    "INSERT into department values ('Inventario');\n",
    "INSERT into department values ('Logistica');\n",
    "INSERT into department values ('Apoio ao Cliente');\n",
    "INSERT into department values ('Marketing');\n",
    "\n",
    "INSERT into workplace values ( 'Rua Simplicio dos Passos Gouveia 27, 9004-565 Funchal' , 10.234 , 40.402 );\n",
    "INSERT into workplace values ( 'Rua do Centro Social 38, 1750-204 Lisboa' , 12.214 , 39.202 );\n",
    "INSERT into workplace values ( 'Rua do Tomás 15, 4825-134 Lamelas' , 99.235 , 40.402 );\n",
    "INSERT into workplace values ( 'Rua Artur Costa Baril 108, 7570-190 Grândola' , 95.144 , 42.442 );\n",
    "INSERT into workplace values ( 'Rua dos Félix 47, 2125-174 Marinhais' , 93.654 , 38.098 );\n",
    "\n",
    "INSERT into office values ('Rua do Centro Social 38, 1750-204 Lisboa');\n",
    "INSERT into office values ('Rua dos Félix 47, 2125-174 Marinhais');\n",
    "\n",
    "INSERT into warehouse values ('Rua do Centro Social 38, 1750-204 Lisboa');\n",
    "INSERT into warehouse values ('Rua Simplicio dos Passos Gouveia 27, 9004-565 Funchal');\n",
    "INSERT into warehouse values ('Rua do Tomás 15, 4825-134 Lamelas');\n",
    "INSERT into warehouse values ('Rua Artur Costa Baril 108, 7570-190 Grândola');\n",
    "\n",
    "INSERT into works values (01, 'Recursos Humanos', 'Rua Simplicio dos Passos Gouveia 27, 9004-565 Funchal');\n",
    "INSERT into works values (01, 'Recursos Humanos', 'Rua do Centro Social 38, 1750-204 Lisboa');\n",
    "INSERT into works values (02, 'Inventario', 'Rua do Centro Social 38, 1750-204 Lisboa');\n",
    "INSERT into works values (03, 'Logistica', 'Rua do Tomás 15, 4825-134 Lamelas');\n",
    "INSERT into works values (04, 'Apoio ao Cliente', 'Rua Artur Costa Baril 108, 7570-190 Grândola');\n",
    "INSERT into works values (05, 'Marketing', 'Rua Artur Costa Baril 108, 7570-190 Grândola');\n",
    "\n",
    "INSERT into product values (2654985632, 'vela ecologica', 'Esta vela e perfumada com uma fragrancia floral natural. Uma combinacao de perfume terapeutico de lavanda e ervas aromaticas com a frescura da canfora. Agradavel para todo o ano e ocasioes. Uma combinacao de luz brilhante e perfume envolvente que cria um ambiente exotico que estimula os sentidos.', 15.35);\n",
    "INSERT into product values (4653215258, 'SWEET DREAMS ARE MADE OF TEA', 'A Tisana Sweat Dreams Are Made of Tea produzida pela Paisagindo.bio., tem propriedades relaxantes e calmantes. E excelente quando bebida quente antes de dormir ou em alturas de maior stress.', 4.10);\n",
    "INSERT into product values (6352945125, 'TEMPERO MEDITERRANICO 25g', 'Esta mistura da Paisagingo.bio e feita apenas e so com plantas aromaticas, legumes e especiarias desidratadas a baixa temperatura e da melhor qualidade foi pensada para os amantes dos sabores do Sul da Europa e dos beneficios da dieta mediterranica.', 3.90);\n",
    "INSERT into product values (8659523254, 'ULTRA CLEAN', 'O Ultra Clean e um produto 2 em 1, desengordurante e desinfetante concentrado. Desengordurante biodegradavel, germicida, bactericida e inodoro. O Ultra Clean penetra profundamente para remover as camadas de gordura, sujidade, derrames de oleo, aliado com o seu poder desinfetante. Nao contem nafta, benzina ou solventes clorados.', 50.90);\n",
    "INSERT into product values (6352145236, 'TOALHITAS DESINFETANTES', 'As toalhitas desinfetantes Lunette sao o teu produto de limpeza para levar, quando nao tens agua por perto. Viagens de carro, casas de banho dos avioes ou dos festivais, ou o cubiculo do escritorio - vais estar totalmente preparada. As toalhitas desinfetantes Lunetteeliminam grande parte dos germes, permitindo que uses o teu copo menstrual em seguranca.', 4.90);\n",
    "INSERT into product values (4251452152, 'SABONETE ESFOLIANTE MENTA 100g', 'Seja qual for o seu tipo de pele, esfolie, renove e refresque-a com o sabonete esfoliante de menta da Unii a base de oleo essencial de hortela-pimenta. Bastante energetico, este sabonete promove a renovacao celular, removendo impurezas e celulas mortas, deixando a pele como nova!', 70.90);\n",
    "INSERT into product values (8659625412, 'SABONETE SUAVIZANTE AMENDOAS DOCES & ALFAZEMA 100g', 'O Sabonete de Amendoas Doces & Lavanda da Unii foi desenvolvido para peles sensiveis, corpo e rosto. O oleo de amendoas doces tem uma acao protetora e em conjunto com a alfazema proporciona um efeito calmante na pele, deixando-a com um suave aroma de amendoas doces e alfazema.', 6.90);\n",
    "INSERT into product values (2635986532, 'SAL - SABONETE DE SAL MARINHO 100g', 'E um sabonete mais alternativo pela quantidade de sal presente no sabao. O sal tem acao bactericida, ajuda a desintoxicar e a eliminar as impurezas e celulas mortas da superficie da pele. Sabonete com o poder revitalizante do sal e a frescura do oleo essencial de hortela-pimenta, que cria uma experiencia unica de banho. Trata-se de uma barra de sal com um poder de limpeza extraordinario.', 6.00);\n",
    "INSERT into product values (0215124521, 'SO LOIÇA - SABAO PARA A LOICA 180g', 'Sabao para a loica e o seu aliado perfeito para uma lavagem manual eficaz. Elimina facilmente sujidades e gorduras de todo o tipo de loica. Isto com uma espuma fina e um aroma agradavel a limao e alfazema.', 45.90);\n",
    "INSERT into product values (0231564896, 'PROTETOR SOLAR NATURAL SPF50 100ml', 'O protetor solar natural SPF 50 da Sol de Ibiza foi concebido para uma protecao eficaz contra os raios UVA e UVB, com ingredientes 100% naturais. Formulado com oxido de zinco nao nano, e resistente a agua e nao contem conservantes ou ingredientes toxicos para nos e para o meio ambiente. E adequado para adultos e criancas, para todos os tipos de pele e pode ser utilizado diariamente.', 52.10);\n",
    "INSERT into product values (2514251425, 'SABONETE DE AZEITE 75g', 'Sabonete Aromas do Valado e feito a base azeite, sem oleos essenciais, aromatizado apenas com hidrolato (agua floral) de esteva.', 4.50);\n",
    "INSERT into product values (8965478512, 'PASTA DE DENTES NATURAL CARVAO COM FLUOR 75ml', 'Cuidadosamente formulada para prevenir cáries e proteger ativamente contra as cáries e placa bacteriana. O sabor a menta fresca ajuda a prevenir o mau hálito enquanto a infusão de carvão natural ajuda a remover manchas e descolorações.', 4.45);\n",
    "INSERT into product values (6235632563, 'PASTA DE DENTES PASTILHAS FLUOR 60u', 'As pastilhas sao cuidadosamente formulados para prevenir caries e proteger ativamente contra caries e placas. Livre de SLS e parabenos com sabor natural de menta fresca e 1450 ppm de fluoreto de sodio. Sao Vegan e Cruelty-free.', 4.99);\n",
    "INSERT into product values (8456321595, 'OLEO PURO ROSA MOSQUETA 50ml', 'O Oleo Puro Biologico Rosa Mosqueta da Unii e a melhor fonte vegetal de omega 3 e omega 6 no combate ao envelhecimento e na regeneracao da pele. Vai deixar a sua pele com um suave aroma de rosa mosqueta. Previne e minimiza estrias e cicatrizes.', 60.23);\n",
    "INSERT into product values (8888866666, 'LUVA DE MASSAGEM DE LINHO', 'Luva de banho confeccionada em linho. Gracas ao seu formato de luva, a sua utilizacao e extremamente facil. Ideal para a remocao de celulas mortas e ativacao da circulacao.', 10.40);\n",
    "INSERT into product values (9562849562, 'Sabonete para barba 100g', 'Sabonete a base de azeite com oleos essenciais que ajudam a minimizar o efeito irritativo do barbear acalmando e suavizando a pele.', 6.00);\n",
    "INSERT into product values (9638527415, 'Oleo de barba 30ml', 'O Oleo de Barba da Healthy Planet e formulado com os melhores oleos essenciais, tal como o Oleo de Semente de Uva e o Oleo de Argao.', 11.50);\n",
    "INSERT into product values (6546546546, 'Barra de Barbear Power Shave 80g', 'A barra de barbear Power Shave prepara a pele para um barbear mais agradavel, minimizando a irritacao e a vermelhidao.', 9.90);\n",
    "INSERT into product values (3213213213, 'Conjunto de Sabonete e Pincel', 'Colecao especial para homem e um complemento ao sabonete de barbear.', 18.00);\n",
    "INSERT into product values (3265149587, 'CONJUNTO DE SABONETE, PINCEL E TACA', 'Colecao especial para homem e um complemento ao sabonete de barbear.', 25.00);\n",
    "INSERT into product values (9568965895, 'BARBUDO - SABONETE PARA A BARBA 100g', 'Sabonete a base de azeite extra virgem e aromatizado com oleo essencial de geranio, otimo para lavar a barba e rosto.', 6.00);\n",
    "INSERT into product values (1490242093, 'CHAMPO SOLIDO E SABONETE 2 EM 1 POWER SHOWER 100g', 'Este champo e sabonete 2 em 1 da Shaeco oferece a pratico e simples que qualquer homem procura!', 9.90);\n",
    "INSERT into product values (5623154251, 'DESODORIZANTE PEDRA DE ALUMEN BIORK', 'O Biork e um desodorizante completamente ecologico, feito de pedra de alumen de potassio com origem na Malasia e revestido de cortica portuguesa reciclavel.', 13.90);\n",
    "INSERT into product values (5490242093, 'CHAMPO SOLIDO ESFOLIANTE DETOX 75g', 'Este champo esfoliante de limpeza profunda da Unii e perfeito para uma desintoxicacao e purificacao profunda de todos os tipos de cabelo.', 9.90);\n",
    "INSERT into product values (9490242093, 'GALEGA - SABONETE DE AZEITE DE OLIVEIRA 100g', 'Sabonete de azeite extra virgem sem aroma adicionado.', 6.00);\n",
    "INSERT into product values (7949024209, 'SABONETE DE CARVAO ATIVADO E PINHO 100g', 'Sabonete a base de azeite extra virgem, carvao ativado e aromatizado com oleo essencial de pinho.', 6.00);\n",
    "INSERT into product values (3624678687, 'BALSAMO LABIAL DE CANHAMO', 'Balsamo labial  da Suntribe e altamente hidratante e calmante. Fornece os primeiros socorros para labios secos e gretados, gracas ao oleo de semente de canhamo, um oleo radicalmente hidratante.', 6.99);\n",
    "\n",
    "INSERT into supplier values (987123465, 'Fornecedor dos Fornecimentos 00 Lda.', 'Rua das Industrias 1, 8600-306 Lagos', 2654985632, '2020-01-01' );\n",
    "INSERT into supplier values (987123461, 'Fornecedor dos Fornecimentos 01 Lda.', 'Rua das Industrias 1, 8600-306 Lagos', 4653215258, '2020-01-01' );\n",
    "INSERT into supplier values (987123460, 'Fornecedor dos Fornecimentos 02 Lda.', 'Rua das Industrias 1, 8600-306 Lagos', 6352945125, '2020-01-01' );\n",
    "INSERT into supplier values (987123462, 'Fornecedor dos Fornecimentos 03 Lda.', 'Rua das Industrias 1, 8600-306 Lagos', 8659523254, '2020-01-01' );\n",
    "INSERT into supplier values (987123463, 'Fornecedor dos Fornecimentos 04 Lda.', 'Rua das Industrias 1, 8600-306 Lagos', 6352145236, '2020-01-01' );\n",
    "INSERT into supplier values (987123464, 'Fornecedor dos Fornecimentos 05 Lda.', 'Rua das Industrias 1, 8600-306 Lagos', 4251452152, '2020-01-01' );\n",
    "INSERT into supplier values (987123467, 'Fornecedor dos Fornecimentos 06 Lda.', 'Rua das Industrias 1, 8600-306 Lagos', 8659625412, '2020-01-01' );\n",
    "INSERT into supplier values (987123469, 'Fornecedor dos Fornecimentos 07 Lda.', 'Rua das Industrias 1, 8600-306 Lagos', 2635986532, '2020-01-01' );\n",
    "INSERT into supplier values (987123415, 'Fornecedor dos Fornecimentos 08 Lda.', 'Rua das Industrias 1, 8600-306 Lagos', 0215124521, '2020-01-01' );\n",
    "INSERT into supplier values (987123425, 'Fornecedor dos Fornecimentos 09 Lda.', 'Rua das Industrias 1, 8600-306 Lagos', 0231564896, '2020-01-01' );\n",
    "INSERT into supplier values (987123435, 'Fornecedor dos Fornecimentos 10 Lda.', 'Rua das Industrias 1, 8600-306 Lagos', 2514251425, '2020-01-01' );\n",
    "INSERT into supplier values (987123445, 'Fornecedor dos Fornecimentos 11 Lda.', 'Rua das Industrias 1, 8600-306 Lagos', 8965478512, '2020-01-01' );\n",
    "INSERT into supplier values (987123455, 'Fornecedor dos Fornecimentos 12 Lda.', 'Rua das Industrias 1, 8600-306 Lagos', 6235632563, '2020-01-01' );\n",
    "INSERT into supplier values (987123475, 'Fornecedor dos Fornecimentos 13 Lda.', 'Rua das Industrias 1, 8600-306 Lagos', 8456321595, '2020-01-01' );\n",
    "INSERT into supplier values (109872386, 'Rei dos Fornecedores 01 Lda.', 'Rua Alberto Caeiro 2, 7000-409 Évora', 8888866666, '2021-01-01');\n",
    "INSERT into supplier values (109872396, 'Rei dos Fornecedores 02 Lda.', 'Rua Alberto Caeiro 2, 7000-409 Évora', 9562849562, '2021-01-01');\n",
    "INSERT into supplier values (109172346, 'Rei dos Fornecedores 03 Lda.', 'Rua Alberto Caeiro 2, 7000-409 Évora', 9638527415, '2021-01-01');\n",
    "INSERT into supplier values (109272346, 'Rei dos Fornecedores 04 Lda.', 'Rua Alberto Caeiro 2, 7000-409 Évora', 6546546546, '2021-01-01');\n",
    "INSERT into supplier values (109372346, 'Rei dos Fornecedores 05 Lda.', 'Rua Alberto Caeiro 2, 7000-409 Évora', 3213213213, '2021-01-01');\n",
    "INSERT into supplier values (109472346, 'Rei dos Fornecedores 06 Lda.', 'Rua Alberto Caeiro 2, 7000-409 Évora', 9568965895, '2021-01-01');\n",
    "INSERT into supplier values (109572346, 'Rei dos Fornecedores 07 Lda.', 'Rua Alberto Caeiro 2, 7000-409 Évora', 1490242093, '2021-01-01');\n",
    "INSERT into supplier values (109672346, 'Rei dos Fornecedores 08 Lda.', 'Rua Alberto Caeiro 2, 7000-409 Évora', 5623154251, '2021-01-01');\n",
    "INSERT into supplier values (109772346, 'Rei dos Fornecedores 09 Lda.', 'Rua Alberto Caeiro 2, 7000-409 Évora', 5490242093, '2021-01-01');\n",
    "INSERT into supplier values (109872346, 'Rei dos Fornecedores 10 Lda.', 'Rua Alberto Caeiro 2, 7000-409 Évora', 9490242093, '2021-01-01');\n",
    "INSERT into supplier values (109972346, 'Rei dos Fornecedores 11 Lda.', 'Rua Alberto Caeiro 2, 7000-409 Évora', 7949024209, '2021-01-01');\n",
    "INSERT into supplier values (100872346, 'Rei dos Fornecedores 12 Lda.', 'Rua Alberto Caeiro 2, 7000-409 Évora', 3624678687, '2021-01-01');\n",
    "INSERT into supplier values (101872346, 'Rei dos Fornecedores 13 Lda.', 'Rua Alberto Caeiro 2, 7000-409 Évora', 3265149587, '2021-01-01');\n",
    "\n",
    "INSERT into contains values (00001, 8659523254, 2);\n",
    "INSERT into contains values (00002, 2654985632, 1);\n",
    "INSERT into contains values (00003, 4653215258, 4);\n",
    "INSERT into contains values (00004, 1490242093, 5);\n",
    "INSERT into contains values (00005, 3213213213, 1);\n",
    "INSERT into contains values (00006, 8965478512, 4);\n",
    "INSERT into contains values (00007, 6235632563, 1);\n",
    "INSERT into contains values (00008, 8456321595, 4);\n",
    "INSERT into contains values (00009, 8888866666, 7);\n",
    "INSERT into contains values (00010, 9562849562, 2);\n",
    "INSERT into contains values (00011, 6546546546, 1);\n",
    "INSERT into contains values (00012, 3213213213, 2);\n",
    "INSERT into contains values (00013, 3265149587, 3);\n",
    "INSERT into contains values (00014, 7949024209, 5);\n",
    "INSERT into contains values (00015, 3624678687, 1);\n",
    "\n",
    "INSERT into delivery values ('Rua Simplicio dos Passos Gouveia 27, 9004-565 Funchal', 987123465);\n",
    "INSERT into delivery values ('Rua do Tomás 15, 4825-134 Lamelas', 987123461);\n",
    "INSERT into delivery values ('Rua Artur Costa Baril 108, 7570-190 Grândola',987123460);\n",
    "INSERT into delivery values ('Rua do Centro Social 38, 1750-204 Lisboa', 987123462);\n",
    "INSERT into delivery values ('Rua Artur Costa Baril 108, 7570-190 Grândola', 987123463);\n",
    "INSERT into delivery values ('Rua do Centro Social 38, 1750-204 Lisboa', 987123465);\n",
    "INSERT into delivery values ('Rua Simplicio dos Passos Gouveia 27, 9004-565 Funchal', 987123464);\n",
    "INSERT into delivery values ('Rua do Tomás 15, 4825-134 Lamelas', 987123469);\n",
    "INSERT into delivery values ('Rua do Tomás 15, 4825-134 Lamelas', 987123415);\n",
    "INSERT into delivery values ('Rua do Centro Social 38, 1750-204 Lisboa', 987123425);\n",
    "INSERT into delivery values ('Rua Artur Costa Baril 108, 7570-190 Grândola', 987123435);\n",
    "INSERT into delivery values ('Rua Artur Costa Baril 108, 7570-190 Grândola', 987123445);\n",
    "INSERT into delivery values ('Rua do Centro Social 38, 1750-204 Lisboa', 987123455);\n",
    "INSERT into delivery values ('Rua Artur Costa Baril 108, 7570-190 Grândola', 987123475);\n",
    "INSERT into delivery values ('Rua do Tomás 15, 4825-134 Lamelas', 109872386);\n",
    "INSERT into delivery values ('Rua Artur Costa Baril 108, 7570-190 Grândola', 109872396);\n",
    "INSERT into delivery values ('Rua do Tomás 15, 4825-134 Lamelas', 109172346);\n",
    "INSERT into delivery values ('Rua Artur Costa Baril 108, 7570-190 Grândola', 109272346);\n",
    "INSERT into delivery values ('Rua do Centro Social 38, 1750-204 Lisboa', 109372346);\n",
    "INSERT into delivery values ('Rua do Tomás 15, 4825-134 Lamelas', 109872346);\n",
    "INSERT into delivery values ('Rua Artur Costa Baril 108, 7570-190 Grândola', 109472346);\n",
    "INSERT into delivery values ('Rua do Tomás 15, 4825-134 Lamelas', 109572346);\n",
    "INSERT into delivery values ('Rua do Tomás 15, 4825-134 Lamelas', 109672346);\n",
    "INSERT into delivery values ('Rua do Tomás 15, 4825-134 Lamelas', 109772346);\n",
    "INSERT into delivery values ('Rua Simplicio dos Passos Gouveia 27, 9004-565 Funchal', 109872346);\n",
    "INSERT into delivery values ('Rua do Tomás 15, 4825-134 Lamelas', 109972346);\n",
    "INSERT into delivery values ('Rua Simplicio dos Passos Gouveia 27, 9004-565 Funchal', 100872346);\n"
   ]
  },
  {
   "cell_type": "markdown",
   "id": "9772880f-58f0-46c8-9670-737390210bb4",
   "metadata": {
    "id": "9772880f-58f0-46c8-9670-737390210bb4",
    "tags": []
   },
   "source": [
    "## 1. Restrições de Integridade\n",
    "\n",
    "Apresente o código para implementar as seguintes restrições de integridade, se necessário, com recurso a extensões procedimentais SQL (Stored Procedures e Triggers):"
   ]
  },
  {
   "cell_type": "markdown",
   "id": "a0a92dd6-9093-4f4e-addf-591d83c466b3",
   "metadata": {
    "id": "a0a92dd6-9093-4f4e-addf-591d83c466b3"
   },
   "source": [
    "(RI-1) Nenhum empregado pode ter menos de 18 anos de idade"
   ]
  },
  {
   "cell_type": "code",
   "execution_count": null,
   "id": "c422052c-0463-46ae-9be1-b6f6ed19d2b9",
   "metadata": {
    "id": "c422052c-0463-46ae-9be1-b6f6ed19d2b9",
    "tags": []
   },
   "outputs": [],
   "source": [
    "%%sql\n",
    "\n",
    "ALTER TABLE employee ADD CONSTRAINT check_age CHECK (DATE_TRUNC('year', AGE(CURRENT_DATE, bdate)) >= INTERVAL '18 years') --age must be >=18"
   ]
  },
  {
   "cell_type": "markdown",
   "id": "e99193b5-fd48-4601-a226-34432074af53",
   "metadata": {
    "id": "e99193b5-fd48-4601-a226-34432074af53"
   },
   "source": [
    "(RI-2) Um 'Workplace' é obrigatoriamente um 'Office' ou 'Warehouse' mas não pode ser ambos"
   ]
  },
  {
   "cell_type": "code",
   "execution_count": null,
   "id": "188ec396-6e55-4fd3-b436-dcafe454f677",
   "metadata": {
    "colab": {
     "base_uri": "https://localhost:8080/"
    },
    "id": "188ec396-6e55-4fd3-b436-dcafe454f677",
    "outputId": "51b8bb65-a886-41b5-8359-b81a4d665e9c",
    "tags": []
   },
   "outputs": [
    {
     "name": "stderr",
     "output_type": "stream",
     "text": [
      "UsageError: Cell magic `%%sql` not found.\n"
     ]
    }
   ],
   "source": [
    "%%sql\n",
    "\n",
    "CREATE OR REPLACE FUNCTION check_address_constraint() RETURNS TRIGGER AS\n",
    "$$\n",
    "DECLARE\n",
    "    office_count INTEGER;\n",
    "    warehouse_count INTEGER;\n",
    "BEGIN\n",
    "    --  check if address exists in office\n",
    "    SELECT COUNT(*) INTO office_count\n",
    "    FROM office\n",
    "    WHERE address = NEW.address;\n",
    "\n",
    "    -- check if address exists in warehouse\n",
    "    SELECT COUNT(*) INTO warehouse_count\n",
    "    FROM warehouse\n",
    "    WHERE address = NEW.address;\n",
    "\n",
    "    -- if it exists in both or none\n",
    "    IF (office_count = warehouse_count) THEN\n",
    "        RAISE EXCEPTION 'Address must be in warehouse or office but not both';\n",
    "    END IF;\n",
    "\n",
    "    RETURN NEW;\n",
    "END;\n",
    "$$ LANGUAGE plpgsql;\n",
    "\n",
    "\n",
    "-- Office trigger\n",
    "CREATE CONSTRAINT TRIGGER check_address_constraint_office\n",
    "AFTER INSERT OR UPDATE OR DELETE ON office DEFERRABLE INITIALLY DEFERRED\n",
    "FOR EACH ROW\n",
    "EXECUTE FUNCTION check_address_constraint();\n",
    "\n",
    "-- Warehouse trigger\n",
    "CREATE CONSTRAINT TRIGGER check_address_constraint_warehouse\n",
    "AFTER INSERT OR UPDATE OR DELETE ON warehouse DEFERRABLE INITIALLY DEFERRED\n",
    "FOR EACH ROW\n",
    "EXECUTE FUNCTION check_address_constraint();\n",
    "\n",
    "-- Workplace trigger\n",
    "CREATE CONSTRAINT TRIGGER check_address_constraint_workplace\n",
    "AFTER INSERT OR UPDATE ON workplace DEFERRABLE INITIALLY DEFERRED\n",
    "FOR EACH ROW\n",
    "EXECUTE FUNCTION check_address_constraint();"
   ]
  },
  {
   "cell_type": "markdown",
   "id": "7e659751-bbd0-475a-b36e-8d40d7d58a54",
   "metadata": {
    "id": "7e659751-bbd0-475a-b36e-8d40d7d58a54"
   },
   "source": [
    "(RI-3) Uma 'Order' tem de figurar obrigatoriamente em 'Contains'.\n"
   ]
  },
  {
   "cell_type": "code",
   "execution_count": null,
   "id": "f2993b94-77a8-4b09-b522-f39021c55131",
   "metadata": {
    "colab": {
     "base_uri": "https://localhost:8080/"
    },
    "id": "f2993b94-77a8-4b09-b522-f39021c55131",
    "outputId": "8b5cb4db-5009-4054-94af-6a64528211f3",
    "tags": []
   },
   "outputs": [
    {
     "name": "stderr",
     "output_type": "stream",
     "text": [
      "UsageError: Cell magic `%%sql` not found.\n"
     ]
    }
   ],
   "source": [
    "%%sql\n",
    "\n",
    "CREATE OR REPLACE FUNCTION check_order_contains() RETURNS TRIGGER AS\n",
    "$$\n",
    "  BEGIN\n",
    "    IF NEW.order_no NOT IN (SELECT order_no FROM contains)\n",
    "    THEN RAISE EXCEPTION 'Order % must contain some products', NEW.order_no;\n",
    "    END IF;\n",
    "    RETURN NEW;\n",
    "  END;\n",
    "$$ LANGUAGE plpgsql;\n",
    "\n",
    "CREATE CONSTRAINT TRIGGER check_order_contains_trigger AFTER INSERT ON orders DEFERRABLE INITIALLY DEFERRED\n",
    "  FOR EACH ROW EXECUTE FUNCTION check_order_contains();"
   ]
  },
  {
   "cell_type": "markdown",
   "id": "37637f46-470f-431a-9833-4d8665176450",
   "metadata": {
    "id": "37637f46-470f-431a-9833-4d8665176450",
    "tags": []
   },
   "source": [
    "## 2. Consultas SQL"
   ]
  },
  {
   "cell_type": "markdown",
   "id": "f861ee47-e72b-4633-8dac-b4728ed852b9",
   "metadata": {
    "id": "f861ee47-e72b-4633-8dac-b4728ed852b9"
   },
   "source": [
    "Apresente a consulta SQL mais sucinta para cada uma das seguintes questões"
   ]
  },
  {
   "cell_type": "markdown",
   "id": "fd2e1654-059e-4ef5-a63d-5e81280baab0",
   "metadata": {
    "id": "fd2e1654-059e-4ef5-a63d-5e81280baab0"
   },
   "source": [
    "1) Qual o número e nome do(s) cliente(s) com maior valor total de encomendas pagas?"
   ]
  },
  {
   "cell_type": "code",
   "execution_count": null,
   "id": "5b79ced0-279d-4e04-921e-0c831d7a79f2",
   "metadata": {
    "colab": {
     "base_uri": "https://localhost:8080/"
    },
    "id": "5b79ced0-279d-4e04-921e-0c831d7a79f2",
    "outputId": "63927f22-3067-4410-cc5e-3907c508ab4e",
    "tags": []
   },
   "outputs": [
    {
     "name": "stderr",
     "output_type": "stream",
     "text": [
      "UsageError: Cell magic `%%sql` not found.\n"
     ]
    }
   ],
   "source": [
    "%%sql\n",
    "\n",
    "SELECT cust_no, customer.name FROM customer\n",
    "  JOIN pay USING (cust_no) JOIN contains USING (order_no) JOIN product USING (SKU)\n",
    "  GROUP BY cust_no HAVING SUM(contains.qty * product.price) >= ALL(\n",
    "    SELECT SUM(contains.qty * product.price) FROM pay\n",
    "    JOIN contains USING (order_no) JOIN product USING (SKU)\n",
    "    GROUP BY cust_no\n",
    "  );"
   ]
  },
  {
   "cell_type": "markdown",
   "id": "4f863499-c40e-428c-85e8-d2741362906d",
   "metadata": {
    "id": "4f863499-c40e-428c-85e8-d2741362906d"
   },
   "source": [
    ":2. Qual o nome dos empregados que processaram encomendas em todos os dias de 2022 em que houve encomendas?"
   ]
  },
  {
   "cell_type": "code",
   "execution_count": null,
   "id": "aadac5e9-d0e4-46e0-bab5-33d00b863884",
   "metadata": {
    "colab": {
     "base_uri": "https://localhost:8080/"
    },
    "id": "aadac5e9-d0e4-46e0-bab5-33d00b863884",
    "outputId": "66325942-2d9c-43c4-a9a5-0176c2549000",
    "tags": []
   },
   "outputs": [
    {
     "name": "stderr",
     "output_type": "stream",
     "text": [
      "UsageError: Cell magic `%%sql` not found.\n"
     ]
    }
   ],
   "source": [
    "%%sql\n",
    "\n",
    "SELECT e.name\n",
    "FROM employee e\n",
    "WHERE NOT EXISTS (\n",
    "  SELECT o.date\n",
    "  FROM orders o\n",
    "  WHERE o.date >= DATE '2022-01-01' AND o.date <= DATE '2022-12-31'\n",
    "  EXCEPT\n",
    "  SELECT o.date\n",
    "  FROM orders o\n",
    "  JOIN process p ON p.order_no = o.order_no\n",
    "  WHERE p.ssn = e.ssn\n",
    ");"
   ]
  },
  {
   "cell_type": "markdown",
   "id": "e871bc9e-60c4-465b-a727-9ff2d2115d0b",
   "metadata": {
    "id": "e871bc9e-60c4-465b-a727-9ff2d2115d0b"
   },
   "source": [
    "3. Quantas encomendas foram realizadas mas não pagas em cada mês de 2022?"
   ]
  },
  {
   "cell_type": "code",
   "execution_count": null,
   "id": "3e3e702e-1acb-4004-aa9e-31e4d5916669",
   "metadata": {
    "id": "3e3e702e-1acb-4004-aa9e-31e4d5916669",
    "tags": []
   },
   "outputs": [],
   "source": [
    "%%sql\n",
    "SELECT\n",
    "    m.month,\n",
    "    COALESCE(COUNT(o.order_no), 0) AS total\n",
    "FROM\n",
    "    (\n",
    "        SELECT generate_series(1, 12) AS month\n",
    "    ) m\n",
    "LEFT JOIN\n",
    "    orders o ON (EXTRACT(YEAR FROM o.date) = 2022 AND EXTRACT(MONTH FROM o.date) = m.month)\n",
    "LEFT JOIN\n",
    "    pay p ON (o.order_no = p.order_no)\n",
    "GROUP BY\n",
    "    m.month\n",
    "ORDER BY\n",
    "    m.month;"
   ]
  },
  {
   "cell_type": "markdown",
   "id": "97f45cec-fe42-418a-b85d-c9e51807a42c",
   "metadata": {
    "id": "97f45cec-fe42-418a-b85d-c9e51807a42c"
   },
   "source": [
    "## 3. Vistas"
   ]
  },
  {
   "cell_type": "markdown",
   "id": "03062b56-40fa-41c0-aac9-3e77b9049c27",
   "metadata": {
    "id": "03062b56-40fa-41c0-aac9-3e77b9049c27"
   },
   "source": [
    "Crie uma vista que resuma as informações mais importantes sobre as vendas de produtos, combinando informações de diferentes tabelas do esquema de base de dados. A vista deve ter o seguinte esquema:\n",
    "\n",
    "product_sales(sku, order_no, qty, total_price, year, month, day_of_month, day_of_week, city)"
   ]
  },
  {
   "cell_type": "code",
   "execution_count": null,
   "id": "0bbb2226-5de4-4051-b4c0-9130bd4904f5",
   "metadata": {
    "colab": {
     "base_uri": "https://localhost:8080/"
    },
    "id": "0bbb2226-5de4-4051-b4c0-9130bd4904f5",
    "outputId": "a40d816a-eb71-4bcc-b22b-05be5c1b1b86",
    "tags": []
   },
   "outputs": [
    {
     "name": "stderr",
     "output_type": "stream",
     "text": [
      "UsageError: Cell magic `%%sql` not found.\n"
     ]
    }
   ],
   "source": [
    "%%sql\n",
    "\n",
    "DROP VIEW IF EXISTS product_sales;\n",
    "\n",
    "CREATE VIEW product_sales AS\n",
    "SELECT SKU AS sku, order_no, qty, price*qty AS total_price, EXTRACT(YEAR FROM o.date) AS year, EXTRACT(MONTH FROM o.date) AS month, EXTRACT(DAY FROM o.date) AS day_of_month,\n",
    "    EXTRACT(DOW FROM o.date) + 1 AS day_of_week, REGEXP_SUBSTR(d.address, '[^,+$ ]+$', 1, 1) AS city\n",
    "FROM product pd join contains c using (SKU) join orders o using(order_no) join supplier using (SKU) join delivery d using (TIN) join pay using (order_no);\n"
   ]
  },
  {
   "cell_type": "markdown",
   "id": "6b615865-602f-4974-9de1-27d0060362ef",
   "metadata": {
    "id": "6b615865-602f-4974-9de1-27d0060362ef",
    "tags": []
   },
   "source": [
    "## 4. Desenvolvimento de Aplicação"
   ]
  },
  {
   "cell_type": "markdown",
   "id": "0bad635d-f5c2-449f-97b0-90d10a4d482b",
   "metadata": {
    "id": "0bad635d-f5c2-449f-97b0-90d10a4d482b"
   },
   "source": [
    "### Explicação da arquitetura da aplicação web, incluindo um link para uma versão de trabalho e as relações entre os vários ficheiros na pasta web/arquivos\n",
    "\n",
    "A aplicação web tem como ponto de partida um menu principal (home_page.html) que contém 4 botões que levam às listas das 4 entidades presentes na app (Clientes, Produtos, Fornecedores e Encomendas).\n",
    "\n",
    "Cada um desses botões leva a uma página (products/index.html, por exemplo) onde são listados todos os exemplares da categoria (clientes, produtos, fornecedores ou encomendas) correspondente e onde é possível:\n",
    "1. Aceder a outra página (products/register.html, por exemplo) para **registar** um novo exemplar se as informações introduzidas para os atributos não violarem qualquer uma das FOREIGN KEYS presentes no esquema relacional dessa categoria;\n",
    "2. Aceder a uma outra página (products/update.html, por exemplo) onde se encontra **informação mais completa** para cada um dos exemplares e onde é possível **apagar** o exemplar da base de dados, assim como as suas dependências (exceto as encomendas, que não podem ser apagadas); nesta mesma página, na categoria dos produtos, é ainda possível alterar o seu preço ou descrição;\n",
    "\n",
    "Em particular, no caso das **encomendas**, a página orders/update.html contém ainda botões para outras duas páginas:\n",
    "\n",
    "- orders/addproduct.html, onde é possível adicionar produtos a uma encomenda que ainda não esteja paga;\n",
    "- orders/pay.html, onde é possível pagar uma encomenda que ainda não esteja paga, indicando um método de pagamento e desde que o número de cliente introduzido para pagar seja igual ao número de cliente que realizou essa mesma encomenda.\n",
    "\n",
    "É de notar ainda que para realizar uma nova encomenda é necessário introduzir logo um produto, sendo que os restantes (se existirem) podem ser introduzidos posteriormente."
   ]
  },
  {
   "cell_type": "markdown",
   "id": "5dff0f43-90cc-4ab5-b874-c3fb24776728",
   "metadata": {
    "id": "5dff0f43-90cc-4ab5-b874-c3fb24776728"
   },
   "source": [
    "## 5. Consultas OLAP"
   ]
  },
  {
   "cell_type": "markdown",
   "id": "5c8c25ed-b858-4daf-a291-b59e489c0a44",
   "metadata": {
    "id": "5c8c25ed-b858-4daf-a291-b59e489c0a44"
   },
   "source": [
    "Usando a vista desenvolvida para a Questão 3, escreva duas consultas SQL que permitam analisar:"
   ]
  },
  {
   "cell_type": "markdown",
   "id": "bd8d173c-e72f-4e89-8949-e2df3b7b07a3",
   "metadata": {
    "id": "bd8d173c-e72f-4e89-8949-e2df3b7b07a3"
   },
   "source": [
    "1. As quantidade e valores totais de venda de cada produto em 2022, globalmente, por cidade, por mês, dia do mês e dia da semana"
   ]
  },
  {
   "cell_type": "code",
   "execution_count": null,
   "id": "pBx3EyfRvH3p",
   "metadata": {
    "id": "pBx3EyfRvH3p",
    "tags": []
   },
   "outputs": [],
   "source": [
    "%%sql\n",
    "DROP TABLE IF EXISTS dateD;\n",
    "\n",
    "CREATE TABLE dateD(\n",
    "    id SERIAL PRIMARY KEY,\n",
    "    month INTEGER,\n",
    "    weekday INTEGER,\n",
    "    day INTEGER);\n",
    "\n",
    "INSERT INTO dateD (month, day, weekday)\n",
    "    SELECT EXTRACT(MONTH FROM dd),\n",
    "    EXTRACT(DAY FROM dd), EXTRACT(DOW FROM dd) + 1\n",
    "    FROM generate_series(\n",
    "        '2022-01-01'::timestamp,\n",
    "        '2022-12-31'::timestamp,\n",
    "        '1 day'::INTERVAL) dd;"
   ]
  },
  {
   "cell_type": "code",
   "execution_count": null,
   "id": "bf12ce01-15c0-4e7c-b329-576dd344ebf6",
   "metadata": {
    "id": "bf12ce01-15c0-4e7c-b329-576dd344ebf6",
    "tags": []
   },
   "outputs": [],
   "source": [
    "%%sql\n",
    "WITH cities(city) as (SELECT DISTINCT city FROM product_sales),\n",
    "    products_in_2022 as (SELECT SKU FROM product_sales WHERE year = 2022),\n",
    "    sku_days as (SELECT SKU, month, day, weekday FROM products_in_2022, dateD),\n",
    "    sku_cities as (SELECT SKU, city FROM products_in_2022, cities),\n",
    "    sku_cities_days as (SELECT * FROM sku_cities LEFT JOIN sku_days USING (SKU))\n",
    "SELECT scd.SKU, COALESCE(SUM(qty), 0) as total_qty, COALESCE(SUM(total_price), 0) as total_sales_value, scd.city, scd.month, scd.day, scd.weekday\n",
    "FROM sku_cities_days as scd LEFT JOIN product_sales as ps ON (scd.SKU = ps.SKU AND scd.month = ps.month AND scd.day = ps.day_of_month\n",
    "      AND scd.weekday = ps.day_of_week AND scd.city = ps.city)\n",
    "GROUP BY GROUPING SETS ((scd.SKU), (scd.SKU, scd.city), (scd.SKU, scd.month), (scd.SKU, scd.day), (scd.SKU, scd.weekday))\n",
    "ORDER BY (scd.SKU, scd.city, scd.month, scd.day, scd.weekday);\n"
   ]
  },
  {
   "cell_type": "markdown",
   "id": "a6f88296-429c-4c1c-9a7a-5cbe9cb65920",
   "metadata": {
    "id": "a6f88296-429c-4c1c-9a7a-5cbe9cb65920"
   },
   "source": [
    "2. O valor médio diário das vendas de todos os produtos em 2022, globalmente, por mês e dia da semana"
   ]
  },
  {
   "cell_type": "code",
   "execution_count": null,
   "id": "7aac0901-02ad-4a40-964e-dc03430f8e77",
   "metadata": {
    "id": "7aac0901-02ad-4a40-964e-dc03430f8e77",
    "tags": []
   },
   "outputs": [],
   "source": [
    "%%sql\n",
    "WITH products_in_2022 as (SELECT SKU FROM product_sales WHERE year = 2022),\n",
    "    sku_days as (SELECT SKU, month, weekday FROM products_in_2022, dateD)\n",
    "SELECT ROUND(COALESCE(AVG(total_price), 0), 2) AS total, sd.month, sd.weekday\n",
    "FROM sku_days as sd LEFT JOIN product_sales as ps ON (sd.SKU = ps.SKU AND sd.month = ps.month AND sd.weekday = ps.day_of_week)\n",
    "GROUP BY GROUPING SETS ((), (sd.month), (sd.weekday))\n",
    "ORDER BY (sd.month, sd.weekday);\n"
   ]
  },
  {
   "cell_type": "markdown",
   "id": "5a75300b-51d0-4512-8b50-ffac98d66070",
   "metadata": {
    "id": "5a75300b-51d0-4512-8b50-ffac98d66070",
    "tags": []
   },
   "source": [
    "## 6. Índices"
   ]
  },
  {
   "cell_type": "markdown",
   "id": "35f160cc-30e9-4381-9b3e-0d78ef421af8",
   "metadata": {
    "id": "35f160cc-30e9-4381-9b3e-0d78ef421af8",
    "tags": []
   },
   "source": [
    "Indique, com a devida justificação, que tipo de índice(s), sobre qual(is) atributo(s) e sobre qual(is) tabela(s) faria sentido criar, de forma a agilizar a execução de cada uma das seguintes consultas:"
   ]
  },
  {
   "cell_type": "markdown",
   "id": "6e6e7eb2-c8ba-4d93-a31b-a2384d538fc0",
   "metadata": {
    "id": "6e6e7eb2-c8ba-4d93-a31b-a2384d538fc0"
   },
   "source": [
    "### 6.1\n",
    "SELECT order_no\n",
    "FROM orders\n",
    "JOIN contains USING (order_no)\n",
    "JOIN product USING (SKU)\n",
    "WHERE price > 50 AND\n",
    "EXTRACT(YEAR FROM date) = 2023"
   ]
  },
  {
   "cell_type": "markdown",
   "id": "b12768c7-efcc-4550-a7c1-7f8bbafd6409",
   "metadata": {
    "id": "b12768c7-efcc-4550-a7c1-7f8bbafd6409"
   },
   "source": [
    "### Tipo de Índice, Atributos & Justificação\n",
    "\n",
    "Como order_no é primary key de orders, SKU é primary key de product e ambos fazem parte da primary key de contains, então não são necessários mais índices para os JOINs. Por outro lado, a criação de um índice B-tree de chave composta nos atributo date da tabela orders (em primeiro lugar por se tratar de um filtro de igualdade) e price da tabela product (como é um filtro de range, inviabiliza a utilização de um índice hash) agilizaria a execução da consulta."
   ]
  },
  {
   "cell_type": "markdown",
   "id": "89f6cb2b-8425-42f8-810c-9c9e5797b686",
   "metadata": {
    "id": "89f6cb2b-8425-42f8-810c-9c9e5797b686"
   },
   "source": [
    "### 6.2\n",
    "SELECT order_no, SUM(qty*price)\n",
    "FROM contains\n",
    "JOIN product USING (SKU)\n",
    "WHERE name LIKE ‘A%’\n",
    "GROUP BY order_no;"
   ]
  },
  {
   "cell_type": "markdown",
   "id": "1af12988-e1f5-4a72-835d-9aba30d0ce88",
   "metadata": {
    "id": "1af12988-e1f5-4a72-835d-9aba30d0ce88"
   },
   "source": [
    "### Tipo de Índice, Atributos & Justificação\n",
    "\n",
    "Como SKU é primary key de product e faz parte da primary key de contains, então não são necessários mais índices para o JOIN. Por outro lado, como \"LIKE 'A%'\" consiste num filtro de igualdade tendo em conta o prefixo de name, então seria benéfica a criação de um índice Hash no atributo name da tabela product. Quanto ao agrupamento \"GROUP BY order_no\", não há benefício em criar um índice em order_no pois como se pretende calcular uma soma é necessário percorrer todas as linhas da tabela resultante do JOIN que permaneçam após a filtragem \"LIKE 'A%'\" e que digam respeito a cada order_no."
   ]
  }
 ],
 "metadata": {
  "colab": {
   "provenance": []
  },
  "kernelspec": {
   "display_name": "Python 3 (ipykernel)",
   "language": "python",
   "name": "python3"
  },
  "language_info": {
   "codemirror_mode": {
    "name": "ipython",
    "version": 3
   },
   "file_extension": ".py",
   "mimetype": "text/x-python",
   "name": "python",
   "nbconvert_exporter": "python",
   "pygments_lexer": "ipython3",
   "version": "3.10.6"
  }
 },
 "nbformat": 4,
 "nbformat_minor": 5
}
